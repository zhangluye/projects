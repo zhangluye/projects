{
 "cells": [
  {
   "cell_type": "code",
   "execution_count": 1,
   "metadata": {},
   "outputs": [],
   "source": [
    "import pandas as pd\n",
    "import numpy as np\n",
    "import tensorflow as tf\n",
    "from tensorflow import keras\n",
    "from tensorflow.keras.preprocessing import sequence\n",
    "from tensorflow.keras.preprocessing.text import Tokenizer\n",
    "from tensorflow.keras.preprocessing.sequence import pad_sequences\n",
    "\n",
    "path ='/home/jovyan/wenben/'\n",
    "traindata_path = path + 'splited_words.csv'\n",
    "df = pd.read_csv(traindata_path, header=None)\n",
    "df.columns = ['labels','words']\n",
    "df.drop(0,inplace=True)\n"
   ]
  },
  {
   "cell_type": "code",
   "execution_count": 2,
   "metadata": {},
   "outputs": [],
   "source": [
    "#打乱数据\n",
    "df = df.sample(frac = 1).reset_index(drop=True)\n",
    "\n",
    "#标签存储到文件中的时候是string 将其转换为Float\n",
    "labels = pd.DataFrame(df['labels'],dtype=np.float)\n",
    "\n",
    "#将数据集按9:1分为训练集和测试集\n",
    "from sklearn.model_selection import train_test_split\n",
    "x_train, x_test, y_train, y_test = train_test_split(df['words'], labels, test_size=0.1)"
   ]
  },
  {
   "cell_type": "code",
   "execution_count": 3,
   "metadata": {},
   "outputs": [
    {
     "name": "stdout",
     "output_type": "stream",
     "text": [
      "Shape of data tensor: 374\n"
     ]
    }
   ],
   "source": [
    "from tensorflow.keras.preprocessing.text import Tokenizer\n",
    "from tensorflow.keras.preprocessing.sequence import pad_sequences\n",
    "\n",
    "#创建一个Tokenizer对象，fit_on_texts函数可以将输入的文本中的每个词编号，编号是根据词频的，词频越大，编号越小\n",
    "tokenizer = Tokenizer()\n",
    "tokenizer.fit_on_texts(df['words'])\n",
    "word_index = tokenizer.word_index\n",
    "\n",
    "# 将每个样本中的每个词转换为数字列表，使用每个词的编号进行编号\n",
    "x_train_word_ids = tokenizer.texts_to_sequences(x_train)\n",
    "x_test_word_ids = tokenizer.texts_to_sequences(x_test)\n",
    "\n",
    "maxlen = 412\n",
    "\n",
    "# 每条样本长度不唯一，将每条样本的长度设置一个固定值\n",
    "x_train_padded_seqs=pad_sequences(x_train_word_ids,maxlen) #将超过固定值的部分截掉，不足的在最前面用0填充\n",
    "x_test_padded_seqs=pad_sequences(x_test_word_ids, maxlen)\n",
    "\n",
    "print('Shape of data tensor:', len(x_train_word_ids))\n",
    "\n"
   ]
  },
  {
   "cell_type": "code",
   "execution_count": 4,
   "metadata": {},
   "outputs": [
    {
     "name": "stderr",
     "output_type": "stream",
     "text": [
      "/opt/conda/lib/python3.7/site-packages/ipykernel_launcher.py:15: DeprecationWarning: Call to deprecated `__getitem__` (Method will be removed in 4.0.0, use self.wv.__getitem__() instead).\n",
      "  from ipykernel import kernelapp as app\n"
     ]
    },
    {
     "data": {
      "text/plain": [
       "array([ 0.03077555, -0.19689171,  0.01514873,  0.03516552, -0.14649189,\n",
       "        0.13536552,  0.05067921,  0.14673224,  0.05071287,  0.11778942,\n",
       "       -0.20570518, -0.03077563, -0.02187294,  0.10823867, -0.19002423,\n",
       "        0.01003067,  0.02210338,  0.04537965, -0.02104371, -0.08242097,\n",
       "        0.07172298, -0.05729886, -0.09972931, -0.05655343,  0.3411734 ,\n",
       "        0.02328766,  0.0683514 ,  0.0731271 , -0.02935319,  0.00482498,\n",
       "       -0.00855024, -0.07526612,  0.05240898, -0.04589947, -0.18190417,\n",
       "        0.05480899, -0.15392256, -0.15008   , -0.06484099, -0.07939017,\n",
       "        0.16987318, -0.07401173, -0.16184033, -0.07768875,  0.17417845,\n",
       "        0.12553489, -0.02140648, -0.18119417, -0.27416858,  0.09680711,\n",
       "        0.07791966,  0.08012443,  0.07039854,  0.124543  , -0.2993557 ,\n",
       "        0.18695877, -0.06365933,  0.08606162,  0.08195942, -0.07990877,\n",
       "       -0.00325763, -0.09464441, -0.11443657, -0.10910913,  0.02579219,\n",
       "       -0.02725696,  0.07959891,  0.02723507, -0.03452498, -0.22161037,\n",
       "        0.08606857, -0.00550993, -0.34429422, -0.04121046, -0.24531549,\n",
       "        0.06223882,  0.0949382 ,  0.13744488,  0.03944181, -0.04201904,\n",
       "       -0.21752283, -0.02529372, -0.0472385 , -0.06595517,  0.04151426,\n",
       "       -0.03371623, -0.10362037,  0.02656797,  0.23254517, -0.13306352,\n",
       "        0.03651878, -0.02207701, -0.12466864, -0.08933664,  0.33794275,\n",
       "        0.10080296,  0.03065691,  0.12428588, -0.04482517, -0.2094699 ],\n",
       "      dtype=float32)"
      ]
     },
     "execution_count": 4,
     "metadata": {},
     "output_type": "execute_result"
    }
   ],
   "source": [
    "import matplotlib.pyplot as plt\n",
    "from gensim.models import Word2Vec\n",
    "from gensim.models.word2vec import LineSentence\n",
    "import logging\n",
    "import numpy as np\n",
    "\n",
    "\n",
    "w2vmodel_path = path + 'w2v_model.word2vec'\n",
    "w2v_model=Word2Vec.load(w2vmodel_path)\n",
    "\n",
    "# 预训练的词向量中没有出现的词用0向量表示，出现的词在w2v模型中找到其对应的向量\n",
    "embedding_matrix = np.zeros((len(word_index) + 1, 100))\n",
    "for word, i in word_index.items():\n",
    "    try:\n",
    "        embedding_vector = w2v_model[str(word)]\n",
    "        embedding_matrix[i] = embedding_vector\n",
    "    except KeyError:\n",
    "        continue\n",
    "        \n",
    "embedding_vector"
   ]
  },
  {
   "cell_type": "code",
   "execution_count": 5,
   "metadata": {},
   "outputs": [],
   "source": [
    "#注意力机制层\n",
    "\n",
    "from tensorflow.keras.preprocessing import sequence\n",
    "from tensorflow.keras.datasets import imdb\n",
    "from matplotlib import pyplot as plt\n",
    "import pandas as pd\n",
    " \n",
    "from tensorflow.keras import backend as K\n",
    "from tensorflow.python.keras.layers import Layer, InputSpec\n",
    " \n",
    "class Self_Attention(Layer):\n",
    "    def __init__(self, output_dim, **kwargs):\n",
    "        self.output_dim = output_dim\n",
    "        super(Self_Attention, self).__init__(**kwargs)\n",
    "    def build(self, input_shape):\n",
    "        # 为该层创建一个可训练的权重\n",
    "        #inputs.shape = (batch_size, time_steps, seq_len)\n",
    "        self.kernel = self.add_weight(name='kernel',\n",
    "                                      shape=(3,input_shape[2], self.output_dim),\n",
    "                                      initializer='uniform',\n",
    "                                      trainable=True)\n",
    "        super(Self_Attention, self).build(input_shape)  # 一定要在最后调用它\n",
    "\n",
    "    def call(self, x):\n",
    "        WQ = K.dot(x, self.kernel[0])\n",
    "        WK = K.dot(x, self.kernel[1])\n",
    "        WV = K.dot(x, self.kernel[2])\n",
    " \n",
    "        print(\"WQ.shape\",WQ.shape)\n",
    "        print(\"K.permute_dimensions(WK, [0, 2, 1]).shape\",K.permute_dimensions(WK, [0, 2, 1]).shape)\n",
    "        QK = K.batch_dot(WQ,K.permute_dimensions(WK, [0, 2, 1]))\n",
    "        QK = QK / (64**0.5)\n",
    "        QK = K.softmax(QK)\n",
    "        print(\"QK.shape\",QK.shape)\n",
    "        V = K.batch_dot(QK,WV)\n",
    "        return V\n",
    " \n",
    "    def compute_output_shape(self, input_shape):\n",
    "        return (input_shape[0],input_shape[1],self.output_dim)"
   ]
  },
  {
   "cell_type": "code",
   "execution_count": 6,
   "metadata": {},
   "outputs": [
    {
     "name": "stdout",
     "output_type": "stream",
     "text": [
      "WQ.shape (None, 412, 128)\n",
      "K.permute_dimensions(WK, [0, 2, 1]).shape (None, 128, 412)\n",
      "QK.shape (None, 412, 412)\n",
      "Epoch 1/20\n",
      "WQ.shape (None, 412, 128)\n",
      "K.permute_dimensions(WK, [0, 2, 1]).shape (None, 128, 412)\n",
      "QK.shape (None, 412, 412)\n",
      "WQ.shape (None, 412, 128)\n",
      "K.permute_dimensions(WK, [0, 2, 1]).shape (None, 128, 412)\n",
      "QK.shape (None, 412, 412)\n",
      "19/19 [==============================] - 9s 491ms/step - loss: 0.0658 - accuracy: 0.9118 - mae: 0.1354\n",
      "Epoch 2/20\n",
      "19/19 [==============================] - 10s 501ms/step - loss: 0.0370 - accuracy: 0.9519 - mae: 0.0791\n",
      "Epoch 3/20\n",
      "19/19 [==============================] - 9s 459ms/step - loss: 0.0339 - accuracy: 0.9492 - mae: 0.0805\n",
      "Epoch 4/20\n",
      "19/19 [==============================] - 9s 490ms/step - loss: 0.0268 - accuracy: 0.9679 - mae: 0.0591\n",
      "Epoch 5/20\n",
      "19/19 [==============================] - 9s 489ms/step - loss: 0.0183 - accuracy: 0.9733 - mae: 0.0441\n",
      "Epoch 6/20\n",
      "19/19 [==============================] - 9s 500ms/step - loss: 0.0240 - accuracy: 0.9652 - mae: 0.0446\n",
      "Epoch 7/20\n",
      "19/19 [==============================] - 9s 477ms/step - loss: 0.0150 - accuracy: 0.9813 - mae: 0.0338\n",
      "Epoch 8/20\n",
      "19/19 [==============================] - 9s 470ms/step - loss: 0.0173 - accuracy: 0.9786 - mae: 0.0348\n",
      "Epoch 9/20\n",
      "19/19 [==============================] - 11s 559ms/step - loss: 0.0088 - accuracy: 0.9866 - mae: 0.0234\n",
      "Epoch 10/20\n",
      "19/19 [==============================] - 10s 549ms/step - loss: 0.0069 - accuracy: 0.9920 - mae: 0.0162\n",
      "Epoch 11/20\n",
      "19/19 [==============================] - 11s 562ms/step - loss: 0.0019 - accuracy: 1.0000 - mae: 0.0117\n",
      "Epoch 12/20\n",
      "19/19 [==============================] - 11s 583ms/step - loss: 0.0063 - accuracy: 0.9947 - mae: 0.0143\n",
      "Epoch 13/20\n",
      "19/19 [==============================] - 11s 579ms/step - loss: 0.0108 - accuracy: 0.9840 - mae: 0.0200\n",
      "Epoch 14/20\n",
      "19/19 [==============================] - 10s 544ms/step - loss: 0.0114 - accuracy: 0.9920 - mae: 0.0247\n",
      "Epoch 15/20\n",
      "19/19 [==============================] - 11s 581ms/step - loss: 0.0061 - accuracy: 0.9920 - mae: 0.0141\n",
      "Epoch 16/20\n",
      "19/19 [==============================] - 11s 558ms/step - loss: 0.0150 - accuracy: 0.9840 - mae: 0.0286\n",
      "Epoch 17/20\n",
      "19/19 [==============================] - 11s 557ms/step - loss: 0.0102 - accuracy: 0.9893 - mae: 0.0202\n",
      "Epoch 18/20\n",
      "19/19 [==============================] - 11s 557ms/step - loss: 0.0016 - accuracy: 0.9973 - mae: 0.0069\n",
      "Epoch 19/20\n",
      "19/19 [==============================] - 11s 592ms/step - loss: 0.0097 - accuracy: 0.9840 - mae: 0.0194\n",
      "Epoch 20/20\n",
      "19/19 [==============================] - 11s 572ms/step - loss: 7.4110e-04 - accuracy: 1.0000 - mae: 0.0038\n"
     ]
    }
   ],
   "source": [
    "from tensorflow.keras.layers import Input,Embedding,Conv1D,MaxPooling1D,Flatten\n",
    "from tensorflow.keras.layers import BatchNormalization,Dense,Dropout,Lambda\n",
    "from tensorflow.keras.layers import Input,Embedding,Bidirectional,LSTM,BatchNormalization,Dense,Dropout,Lambda\n",
    "from tensorflow.keras import Sequential\n",
    "import numpy as np\n",
    "\n",
    "model = Sequential()\n",
    "model.add(Embedding(len(word_index) + 1, 100, input_length=maxlen,weights=[embedding_matrix],trainable=False))\n",
    "model.add(Self_Attention(128))\n",
    "model.add(Bidirectional(LSTM(128)))\n",
    "model.add(BatchNormalization())\n",
    "model.add(Dense(128,activation=\"relu\"))\n",
    "model.add(Dropout(0.2))\n",
    "\n",
    "model.add(BatchNormalization())\n",
    "model.add(Dense(labels.shape[1],activation=\"sigmoid\")) \n",
    "\n",
    "model.compile(loss='mse', optimizer='adam', metrics=['accuracy','mae'])\n",
    "\n",
    "history = model.fit(x_train_padded_seqs, y_train, epochs=20, batch_size=20)\n",
    "\n"
   ]
  },
  {
   "cell_type": "code",
   "execution_count": 7,
   "metadata": {},
   "outputs": [
    {
     "ename": "ModuleNotFoundError",
     "evalue": "No module named 'keras'",
     "output_type": "error",
     "traceback": [
      "\u001b[0;31m---------------------------------------------------------------------------\u001b[0m",
      "\u001b[0;31mModuleNotFoundError\u001b[0m                       Traceback (most recent call last)",
      "\u001b[0;32m<ipython-input-7-4207847971ee>\u001b[0m in \u001b[0;36m<module>\u001b[0;34m\u001b[0m\n\u001b[1;32m      2\u001b[0m \u001b[0;31m#画出模型图\u001b[0m\u001b[0;34m\u001b[0m\u001b[0;34m\u001b[0m\u001b[0;34m\u001b[0m\u001b[0m\n\u001b[1;32m      3\u001b[0m \u001b[0;32mimport\u001b[0m \u001b[0mos\u001b[0m\u001b[0;34m\u001b[0m\u001b[0;34m\u001b[0m\u001b[0m\n\u001b[0;32m----> 4\u001b[0;31m \u001b[0;32mfrom\u001b[0m \u001b[0mkeras\u001b[0m\u001b[0;34m.\u001b[0m\u001b[0mutils\u001b[0m \u001b[0;32mimport\u001b[0m \u001b[0mplot_model\u001b[0m\u001b[0;34m\u001b[0m\u001b[0;34m\u001b[0m\u001b[0m\n\u001b[0m\u001b[1;32m      5\u001b[0m \u001b[0mos\u001b[0m\u001b[0;34m.\u001b[0m\u001b[0menviron\u001b[0m\u001b[0;34m[\u001b[0m\u001b[0;34m\"PATH\"\u001b[0m\u001b[0;34m]\u001b[0m \u001b[0;34m+=\u001b[0m \u001b[0mos\u001b[0m\u001b[0;34m.\u001b[0m\u001b[0mpathsep\u001b[0m \u001b[0;34m+\u001b[0m \u001b[0;34m'D:\\\\graphviz\\\\bin'\u001b[0m\u001b[0;34m\u001b[0m\u001b[0;34m\u001b[0m\u001b[0m\n\u001b[1;32m      6\u001b[0m \u001b[0;31m#生成一个模型图，第一个参数为模型，第二个参数为要生成图片的路径及文件名，还可以指定两个参数：\u001b[0m\u001b[0;34m\u001b[0m\u001b[0;34m\u001b[0m\u001b[0;34m\u001b[0m\u001b[0m\n",
      "\u001b[0;31mModuleNotFoundError\u001b[0m: No module named 'keras'"
     ]
    }
   ],
   "source": [
    "\n",
    "#!pip3 install pydot_ng\n",
    "#画出模型图\n",
    "import os\n",
    "from keras.utils import plot_model\n",
    "os.environ[\"PATH\"] += os.pathsep + 'D:\\\\graphviz\\\\bin'\n",
    "#生成一个模型图，第一个参数为模型，第二个参数为要生成图片的路径及文件名，还可以指定两个参数：\n",
    "#show_shapes:指定是否显示输出数据的形状，默认为False\n",
    "#show_layer_names:指定是否显示层名称，默认为True\n",
    "model_path = path + 'lstm_w2v_model.png'\n",
    "plot_model(model,to_file=model_path,show_shapes=True,show_layer_names=False)"
   ]
  },
  {
   "cell_type": "code",
   "execution_count": 8,
   "metadata": {},
   "outputs": [
    {
     "name": "stdout",
     "output_type": "stream",
     "text": [
      "<class 'tensorflow.python.keras.callbacks.History'>\n",
      "WQ.shape (None, 412, 128)\n",
      "K.permute_dimensions(WK, [0, 2, 1]).shape (None, 128, 412)\n",
      "QK.shape (None, 412, 412)\n",
      "[3.1135020890360465e-06, 1.0, 0.0010529214050620794]\n"
     ]
    },
    {
     "data": {
      "image/png": "[encoded data removed]",
      "text/plain": [
       "<Figure size 432x288 with 1 Axes>"
      ]
     },
     "metadata": {
      "needs_background": "light"
     },
     "output_type": "display_data"
    },
    {
     "data": {
      "image/png": "[encoded data removed]",
      "text/plain": [
       "<Figure size 432x288 with 1 Axes>"
      ]
     },
     "metadata": {
      "needs_background": "light"
     },
     "output_type": "display_data"
    },
    {
     "data": {
      "text/plain": [
       "<Figure size 432x288 with 0 Axes>"
      ]
     },
     "metadata": {},
     "output_type": "display_data"
    }
   ],
   "source": [
    "import matplotlib.pyplot as plt\n",
    "\n",
    "print(type(history))\n",
    "plt.title('Loss')\n",
    "epochs=range(len(history.history[\"loss\"])) # Get number of epochs\n",
    "plt.plot(epochs,history.history[\"loss\"],'b')\n",
    "plt.legend([\"Loss\"])\n",
    "plt.figure()\n",
    "\n",
    "plt.title('Acc')\n",
    "plt.ylim([0.0, 1.05])\n",
    "plt.plot(epochs,history.history[\"accuracy\"],'r')\n",
    "plt.legend([\"Acc\"])\n",
    "plt.figure()\n",
    "\n",
    "#估计评分\n",
    "scores = model.evaluate(x_test_padded_seqs,y_test,verbose = 0)\n",
    "print(scores)"
   ]
  },
  {
   "cell_type": "code",
   "execution_count": null,
   "metadata": {},
   "outputs": [],
   "source": []
  },
  {
   "cell_type": "code",
   "execution_count": null,
   "metadata": {},
   "outputs": [],
   "source": []
  },
  {
   "cell_type": "code",
   "execution_count": null,
   "metadata": {},
   "outputs": [],
   "source": []
  },
  {
   "cell_type": "code",
   "execution_count": null,
   "metadata": {},
   "outputs": [],
   "source": []
  },
  {
   "cell_type": "code",
   "execution_count": null,
   "metadata": {},
   "outputs": [],
   "source": []
  },
  {
   "cell_type": "code",
   "execution_count": null,
   "metadata": {},
   "outputs": [],
   "source": []
  },
  {
   "cell_type": "code",
   "execution_count": null,
   "metadata": {},
   "outputs": [],
   "source": []
  }
 ],
 "metadata": {
  "kernelspec": {
   "display_name": "Python 3",
   "language": "python",
   "name": "python3"
  },
  "language_info": {
   "codemirror_mode": {
    "name": "ipython",
    "version": 3
   },
   "file_extension": ".py",
   "mimetype": "text/x-python",
   "name": "python",
   "nbconvert_exporter": "python",
   "pygments_lexer": "ipython3",
   "version": "3.7.4"
  }
 },
 "nbformat": 4,
 "nbformat_minor": 4
}
