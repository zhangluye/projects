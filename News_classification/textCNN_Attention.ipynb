{
 "cells": [
  {
   "cell_type": "code",
   "execution_count": 4,
   "metadata": {},
   "outputs": [],
   "source": [
    "import pandas as pd\n",
    "import numpy as np\n",
    "import tensorflow as tf\n",
    "from tensorflow import keras\n",
    "from tensorflow.keras.preprocessing import sequence\n",
    "from tensorflow.keras.preprocessing.text import Tokenizer\n",
    "from tensorflow.keras.preprocessing.sequence import pad_sequences\n",
    "\n",
    "path ='/home/jovyan/wenben/'\n",
    "traindata_path = path + 'splited_words.csv'\n",
    "df = pd.read_csv(traindata_path, header=None)\n",
    "df.columns = ['labels','words']\n",
    "df.drop(0,inplace=True)\n"
   ]
  },
  {
   "cell_type": "code",
   "execution_count": 5,
   "metadata": {},
   "outputs": [],
   "source": [
    "#打乱数据\n",
    "df = df.sample(frac = 1).reset_index(drop=True)\n",
    "\n",
    "#标签存储到文件中的时候是string 将其转换为Float\n",
    "labels = pd.DataFrame(df['labels'],dtype=np.float)\n",
    "\n",
    "#将数据集按9:1分为训练集和测试集\n",
    "from sklearn.model_selection import train_test_split\n",
    "x_train, x_test, y_train, y_test = train_test_split(df['words'], labels, test_size=0.1)"
   ]
  },
  {
   "cell_type": "code",
   "execution_count": 6,
   "metadata": {},
   "outputs": [
    {
     "name": "stdout",
     "output_type": "stream",
     "text": [
      "Shape of data tensor: 374\n"
     ]
    }
   ],
   "source": [
    "from tensorflow.keras.preprocessing.text import Tokenizer\n",
    "from tensorflow.keras.preprocessing.sequence import pad_sequences\n",
    "\n",
    "#创建一个Tokenizer对象，fit_on_texts函数可以将输入的文本中的每个词编号，编号是根据词频的，词频越大，编号越小\n",
    "tokenizer = Tokenizer()\n",
    "tokenizer.fit_on_texts(df['words'])\n",
    "word_index = tokenizer.word_index\n",
    "\n",
    "# 将每个样本中的每个词转换为数字列表，使用每个词的编号进行编号\n",
    "x_train_word_ids = tokenizer.texts_to_sequences(x_train)\n",
    "x_test_word_ids = tokenizer.texts_to_sequences(x_test)\n",
    "\n",
    "maxlen = 412\n",
    "\n",
    "# 每条样本长度不唯一，将每条样本的长度设置一个固定值\n",
    "x_train_padded_seqs=pad_sequences(x_train_word_ids,maxlen) #将超过固定值的部分截掉，不足的在最前面用0填充\n",
    "x_test_padded_seqs=pad_sequences(x_test_word_ids, maxlen)\n",
    "\n",
    "print('Shape of data tensor:', len(x_train_word_ids))\n",
    "\n"
   ]
  },
  {
   "cell_type": "code",
   "execution_count": 7,
   "metadata": {},
   "outputs": [
    {
     "name": "stderr",
     "output_type": "stream",
     "text": [
      "/opt/conda/lib/python3.7/site-packages/ipykernel_launcher.py:15: DeprecationWarning: Call to deprecated `__getitem__` (Method will be removed in 4.0.0, use self.wv.__getitem__() instead).\n",
      "  from ipykernel import kernelapp as app\n"
     ]
    },
    {
     "data": {
      "text/plain": [
       "array([ 1.26179516e-01,  8.46605524e-02,  5.72675793e-03, -2.45198399e-01,\n",
       "        2.40051046e-01, -5.05575817e-03, -1.67485885e-02, -1.31698743e-01,\n",
       "        6.81331456e-02, -1.36557326e-01,  4.37363200e-02,  7.79542401e-02,\n",
       "       -2.02000309e-02, -2.75173616e-02,  4.36337572e-03,  9.53975469e-02,\n",
       "       -1.09520257e-01,  1.82299927e-01, -1.08072139e-01, -7.67110661e-02,\n",
       "       -1.56625301e-01, -9.22224671e-02, -1.18544511e-01, -1.33459270e-01,\n",
       "        1.53722977e-02,  1.50782809e-01,  1.05904579e-01,  1.36524647e-01,\n",
       "        7.23922253e-02,  1.50620806e-04, -8.59518200e-02,  1.07953236e-01,\n",
       "       -2.78261937e-02,  9.32753310e-02,  8.07057098e-02,  3.48989964e-02,\n",
       "        2.08942741e-01,  9.70723704e-02, -8.35986659e-02, -2.27322862e-01,\n",
       "        2.79404014e-01,  1.08858086e-01, -4.00830172e-02,  6.92613050e-02,\n",
       "       -8.21135342e-02, -1.02759175e-01,  1.78578109e-01,  2.65527163e-02,\n",
       "        1.52105272e-01,  7.71583021e-02, -1.15396999e-01,  1.68030143e-01,\n",
       "        4.81491210e-03,  3.95831838e-02, -2.19630882e-01,  2.73199826e-01,\n",
       "        1.71205262e-03,  7.61763519e-03, -3.75747047e-02, -2.42212519e-01,\n",
       "       -6.86295331e-02,  6.83598220e-02,  1.57056618e-02, -7.77166113e-02,\n",
       "       -8.52555856e-02, -1.26760989e-01,  8.80202800e-02,  1.87748671e-01,\n",
       "        2.47933313e-01, -2.24564429e-02, -1.34016335e-01,  1.91107586e-01,\n",
       "       -1.15934186e-01,  1.65347919e-01, -1.96445912e-01,  3.45394276e-02,\n",
       "       -2.35771928e-02,  5.75576387e-02, -1.04359508e-01, -1.38835669e-01,\n",
       "       -2.07603753e-01, -7.19688646e-03,  3.01237524e-01, -3.19670178e-02,\n",
       "        9.10496265e-02,  6.66875169e-02,  1.25845432e-01,  1.06413044e-01,\n",
       "       -1.38678774e-01, -3.37810129e-01,  2.41034299e-01, -8.27341080e-02,\n",
       "        3.97557057e-02,  1.77022293e-01, -1.73016399e-01, -1.53167963e-01,\n",
       "       -1.19867837e-02,  1.47256613e-01, -4.48467536e-03, -2.66724169e-01],\n",
       "      dtype=float32)"
      ]
     },
     "execution_count": 7,
     "metadata": {},
     "output_type": "execute_result"
    }
   ],
   "source": [
    "import matplotlib.pyplot as plt\n",
    "from gensim.models import Word2Vec\n",
    "from gensim.models.word2vec import LineSentence\n",
    "import logging\n",
    "import numpy as np\n",
    "\n",
    "\n",
    "w2vmodel_path = path + 'w2v_model.word2vec'\n",
    "w2v_model=Word2Vec.load(w2vmodel_path)\n",
    "\n",
    "# 预训练的词向量中没有出现的词用0向量表示，出现的词在w2v模型中找到其对应的向量\n",
    "embedding_matrix = np.zeros((len(word_index) + 1, 100))\n",
    "for word, i in word_index.items():\n",
    "    try:\n",
    "        embedding_vector = w2v_model[str(word)]\n",
    "        embedding_matrix[i] = embedding_vector\n",
    "    except KeyError:\n",
    "        continue\n",
    "        \n",
    "embedding_vector"
   ]
  },
  {
   "cell_type": "code",
   "execution_count": null,
   "metadata": {},
   "outputs": [],
   "source": [
    "#注意力机制层\n",
    "\n",
    "from tensorflow.keras.preprocessing import sequence\n",
    "from tensorflow.keras.datasets import imdb\n",
    "from matplotlib import pyplot as plt\n",
    "import pandas as pd\n",
    " \n",
    "from tensorflow.keras import backend as K\n",
    "from tensorflow.python.keras.layers import Layer, InputSpec\n",
    " \n",
    "class Self_Attention(Layer):\n",
    "    def __init__(self, output_dim, **kwargs):\n",
    "        self.output_dim = output_dim\n",
    "        super(Self_Attention, self).__init__(**kwargs)\n",
    "    def build(self, input_shape):\n",
    "        # 为该层创建一个可训练的权重\n",
    "        #inputs.shape = (batch_size, time_steps, seq_len)\n",
    "        self.kernel = self.add_weight(name='kernel',\n",
    "                                      shape=(3,input_shape[2], self.output_dim),\n",
    "                                      initializer='uniform',\n",
    "                                      trainable=True)\n",
    "        super(Self_Attention, self).build(input_shape)  # 一定要在最后调用它\n",
    "\n",
    "    def call(self, x):\n",
    "        WQ = K.dot(x, self.kernel[0])\n",
    "        WK = K.dot(x, self.kernel[1])\n",
    "        WV = K.dot(x, self.kernel[2])\n",
    " \n",
    "        print(\"WQ.shape\",WQ.shape)\n",
    "        print(\"K.permute_dimensions(WK, [0, 2, 1]).shape\",K.permute_dimensions(WK, [0, 2, 1]).shape)\n",
    "        QK = K.batch_dot(WQ,K.permute_dimensions(WK, [0, 2, 1]))\n",
    "        QK = QK / (64**0.5)\n",
    "        QK = K.softmax(QK)\n",
    "        print(\"QK.shape\",QK.shape)\n",
    "        V = K.batch_dot(QK,WV)\n",
    "        return V\n",
    " \n",
    "    def compute_output_shape(self, input_shape):\n",
    "        return (input_shape[0],input_shape[1],self.output_dim)"
   ]
  },
  {
   "cell_type": "code",
   "execution_count": 15,
   "metadata": {},
   "outputs": [
    {
     "name": "stdout",
     "output_type": "stream",
     "text": [
      "WQ.shape (None, 206, 128)\n",
      "K.permute_dimensions(WK, [0, 2, 1]).shape (None, 128, 206)\n",
      "QK.shape (None, 206, 206)\n",
      "Epoch 1/20\n",
      "WQ.shape (None, 206, 128)\n",
      "K.permute_dimensions(WK, [0, 2, 1]).shape (None, 128, 206)\n",
      "QK.shape (None, 206, 206)\n",
      "WQ.shape (None, 206, 128)\n",
      "K.permute_dimensions(WK, [0, 2, 1]).shape (None, 128, 206)\n",
      "QK.shape (None, 206, 206)\n",
      "19/19 [==============================] - 1s 70ms/step - loss: 0.6806 - accuracy: 0.5695 - mae: 0.5717\n",
      "Epoch 2/20\n",
      "19/19 [==============================] - 1s 73ms/step - loss: 0.1188 - accuracy: 0.8824 - mae: 0.2779\n",
      "Epoch 3/20\n",
      "19/19 [==============================] - 1s 63ms/step - loss: 0.1004 - accuracy: 0.8957 - mae: 0.2489\n",
      "Epoch 4/20\n",
      "19/19 [==============================] - 1s 70ms/step - loss: 0.1104 - accuracy: 0.8797 - mae: 0.2684\n",
      "Epoch 5/20\n",
      "19/19 [==============================] - 1s 55ms/step - loss: 0.0923 - accuracy: 0.9118 - mae: 0.2508\n",
      "Epoch 6/20\n",
      "19/19 [==============================] - 1s 55ms/step - loss: 0.0837 - accuracy: 0.9064 - mae: 0.2293\n",
      "Epoch 7/20\n",
      "19/19 [==============================] - 1s 59ms/step - loss: 0.0980 - accuracy: 0.9278 - mae: 0.2311\n",
      "Epoch 8/20\n",
      "19/19 [==============================] - 1s 61ms/step - loss: 0.0674 - accuracy: 0.9465 - mae: 0.2038\n",
      "Epoch 9/20\n",
      "19/19 [==============================] - 1s 60ms/step - loss: 0.1062 - accuracy: 0.9144 - mae: 0.2487\n",
      "Epoch 10/20\n",
      "19/19 [==============================] - 1s 61ms/step - loss: 0.0524 - accuracy: 0.9706 - mae: 0.1806\n",
      "Epoch 11/20\n",
      "19/19 [==============================] - 1s 58ms/step - loss: 0.0803 - accuracy: 0.9412 - mae: 0.2126\n",
      "Epoch 12/20\n",
      "19/19 [==============================] - 1s 54ms/step - loss: 0.0616 - accuracy: 0.9706 - mae: 0.1957\n",
      "Epoch 13/20\n",
      "19/19 [==============================] - 1s 56ms/step - loss: 0.0612 - accuracy: 0.9840 - mae: 0.1961\n",
      "Epoch 14/20\n",
      "19/19 [==============================] - 1s 60ms/step - loss: 0.0598 - accuracy: 0.9840 - mae: 0.1943\n",
      "Epoch 15/20\n",
      "19/19 [==============================] - 1s 55ms/step - loss: 0.0645 - accuracy: 0.9679 - mae: 0.1933\n",
      "Epoch 16/20\n",
      "19/19 [==============================] - 1s 54ms/step - loss: 0.0574 - accuracy: 0.9733 - mae: 0.1860\n",
      "Epoch 17/20\n",
      "19/19 [==============================] - 1s 61ms/step - loss: 0.0517 - accuracy: 0.9786 - mae: 0.1810\n",
      "Epoch 18/20\n",
      "19/19 [==============================] - 1s 58ms/step - loss: 0.0427 - accuracy: 0.9920 - mae: 0.1604\n",
      "Epoch 19/20\n",
      "19/19 [==============================] - 1s 63ms/step - loss: 0.0434 - accuracy: 0.9893 - mae: 0.1637\n",
      "Epoch 20/20\n",
      "19/19 [==============================] - 1s 52ms/step - loss: 0.0353 - accuracy: 0.9893 - mae: 0.1432\n"
     ]
    }
   ],
   "source": [
    "from tensorflow.keras.layers import Input,Embedding,Conv1D,MaxPooling1D,Flatten\n",
    "from tensorflow.keras.layers import BatchNormalization,Dense,Dropout,Lambda\n",
    "from tensorflow.keras import Sequential\n",
    "\n",
    "model = Sequential()\n",
    "model.add(Embedding(len(word_index) + 1,\n",
    "                           100,\n",
    "                           weights = [embedding_matrix],\n",
    "                           input_length = maxlen,\n",
    "                           trainable = False))\n",
    "model.add(Conv1D(128, 3, padding='same',strides=1, activation='relu'))\n",
    "model.add(MaxPooling1D(pool_size=2))\n",
    "model.add(Conv1D(128, 4, padding='same', strides=1, activation='relu'))\n",
    "model.add(Self_Attention(128))\n",
    "model.add(MaxPooling1D(pool_size=2))\n",
    "model.add(Flatten())\n",
    "model.add(Dropout(0.2))\n",
    "model.add(Dense(1))\n",
    "\n",
    "model.compile(\n",
    "    #loss=tf.keras.losses.Huber(),\n",
    "    loss='mse',\n",
    "    optimizer=\"RMSProp\",\n",
    "    metrics=['accuracy','mae']\n",
    ")\n",
    "\n",
    "history = model.fit(x_train_padded_seqs, y_train, epochs=20, batch_size=20)\n"
   ]
  },
  {
   "cell_type": "code",
   "execution_count": 16,
   "metadata": {},
   "outputs": [
    {
     "name": "stdout",
     "output_type": "stream",
     "text": [
      "WQ.shape (None, 206, 128)\n",
      "K.permute_dimensions(WK, [0, 2, 1]).shape (None, 128, 206)\n",
      "QK.shape (None, 206, 206)\n",
      "[0.18302986025810242, 1.0, 0.29721933603286743]\n"
     ]
    },
    {
     "data": {
      "image/png": "[encoded data removed]",
      "text/plain": [
       "<Figure size 432x288 with 1 Axes>"
      ]
     },
     "metadata": {
      "needs_background": "light"
     },
     "output_type": "display_data"
    },
    {
     "data": {
      "image/png": "[encoded data removed]",
      "text/plain": [
       "<Figure size 432x288 with 1 Axes>"
      ]
     },
     "metadata": {
      "needs_background": "light"
     },
     "output_type": "display_data"
    },
    {
     "data": {
      "text/plain": [
       "<Figure size 432x288 with 0 Axes>"
      ]
     },
     "metadata": {},
     "output_type": "display_data"
    }
   ],
   "source": [
    "import matplotlib.pyplot as plt\n",
    "\n",
    "plt.title('Loss')\n",
    "epochs=range(len(history.history[\"loss\"])) # Get number of epochs\n",
    "plt.plot(epochs,history.history[\"loss\"],'b')\n",
    "plt.legend([\"Loss\"])\n",
    "plt.figure()\n",
    "\n",
    "plt.title('Acc')\n",
    "plt.ylim([0.0, 1.05])\n",
    "plt.plot(epochs,history.history[\"accuracy\"],'r')\n",
    "plt.legend([\"Acc\"])\n",
    "plt.figure()\n",
    "\n",
    "#估计评分\n",
    "scores = model.evaluate(x_test_padded_seqs,y_test,verbose = 0)\n",
    "print(scores)"
   ]
  },
  {
   "cell_type": "code",
   "execution_count": null,
   "metadata": {},
   "outputs": [],
   "source": []
  },
  {
   "cell_type": "code",
   "execution_count": null,
   "metadata": {},
   "outputs": [],
   "source": []
  },
  {
   "cell_type": "code",
   "execution_count": null,
   "metadata": {},
   "outputs": [],
   "source": []
  },
  {
   "cell_type": "code",
   "execution_count": null,
   "metadata": {},
   "outputs": [],
   "source": []
  },
  {
   "cell_type": "code",
   "execution_count": null,
   "metadata": {},
   "outputs": [],
   "source": []
  }
 ],
 "metadata": {
  "kernelspec": {
   "display_name": "Python 3",
   "language": "python",
   "name": "python3"
  },
  "language_info": {
   "codemirror_mode": {
    "name": "ipython",
    "version": 3
   },
   "file_extension": ".py",
   "mimetype": "text/x-python",
   "name": "python",
   "nbconvert_exporter": "python",
   "pygments_lexer": "ipython3",
   "version": "3.7.4"
  }
 },
 "nbformat": 4,
 "nbformat_minor": 4
}
